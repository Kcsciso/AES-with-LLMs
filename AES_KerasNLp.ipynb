{
 "cells": [
  {
   "cell_type": "markdown",
   "id": "785ef1b0",
   "metadata": {
    "papermill": {
     "duration": 0.016083,
     "end_time": "2024-09-18T00:03:24.913846",
     "exception": false,
     "start_time": "2024-09-18T00:03:24.897763",
     "status": "completed"
    },
    "tags": []
   },
   "source": [
    "# 📚 | Import Libraries "
   ]
  },
  {
   "cell_type": "code",
   "execution_count": 1,
   "id": "8d37f294",
   "metadata": {
    "_kg_hide-output": true,
    "execution": {
     "iopub.execute_input": "2024-09-18T00:03:24.945331Z",
     "iopub.status.busy": "2024-09-18T00:03:24.944953Z",
     "iopub.status.idle": "2024-09-18T00:03:40.893167Z",
     "shell.execute_reply": "2024-09-18T00:03:40.891905Z"
    },
    "papermill": {
     "duration": 15.967164,
     "end_time": "2024-09-18T00:03:40.895900",
     "exception": false,
     "start_time": "2024-09-18T00:03:24.928736",
     "status": "completed"
    },
    "tags": []
   },
   "outputs": [
    {
     "name": "stderr",
     "output_type": "stream",
     "text": [
      "2024-12-20 03:07:51.340269: I tensorflow/core/util/port.cc:113] oneDNN custom operations are on. You may see slightly different numerical results due to floating-point round-off errors from different computation orders. To turn them off, set the environment variable `TF_ENABLE_ONEDNN_OPTS=0`.\n",
      "2024-12-20 03:07:51.412254: I tensorflow/core/platform/cpu_feature_guard.cc:210] This TensorFlow binary is optimized to use available CPU instructions in performance-critical operations.\n",
      "To enable the following instructions: AVX2 AVX512F AVX512_VNNI FMA, in other operations, rebuild TensorFlow with the appropriate compiler flags.\n",
      "2024-12-20 03:07:52.491390: W tensorflow/compiler/tf2tensorrt/utils/py_utils.cc:38] TF-TRT Warning: Could not find TensorRT\n"
     ]
    }
   ],
   "source": [
    "import os\n",
    "os.environ[\"KERAS_BACKEND\"] = \"tensorflow\"  # \"jax\" or \"tensorflow\" or \"torch\" \n",
    "import keras\n",
    "import keras_nlp\n",
    "import tensorflow as tf\n",
    "import numpy as np \n",
    "import pandas as pd\n",
    "import matplotlib.pyplot as plt\n",
    "import matplotlib as mpl\n",
    "cmap = mpl.cm.get_cmap('coolwarm')"
   ]
  },
  {
   "cell_type": "markdown",
   "id": "55aa4b7f",
   "metadata": {
    "papermill": {
     "duration": 0.015346,
     "end_time": "2024-09-18T00:03:40.927011",
     "exception": false,
     "start_time": "2024-09-18T00:03:40.911665",
     "status": "completed"
    },
    "tags": []
   },
   "source": [
    "## Library Version"
   ]
  },
  {
   "cell_type": "code",
   "execution_count": 2,
   "id": "614b3790",
   "metadata": {
    "_kg_hide-input": true,
    "execution": {
     "iopub.execute_input": "2024-09-18T00:03:40.961111Z",
     "iopub.status.busy": "2024-09-18T00:03:40.960455Z",
     "iopub.status.idle": "2024-09-18T00:03:40.966925Z",
     "shell.execute_reply": "2024-09-18T00:03:40.965730Z"
    },
    "papermill": {
     "duration": 0.026403,
     "end_time": "2024-09-18T00:03:40.969351",
     "exception": false,
     "start_time": "2024-09-18T00:03:40.942948",
     "status": "completed"
    },
    "tags": []
   },
   "outputs": [
    {
     "name": "stdout",
     "output_type": "stream",
     "text": [
      "TensorFlow: 2.16.1\n",
      "Keras: 3.0.5\n",
      "KerasNLP: 0.8.2\n"
     ]
    }
   ],
   "source": [
    "print(\"TensorFlow:\", tf.__version__)\n",
    "print(\"Keras:\", keras.__version__)\n",
    "print(\"KerasNLP:\", keras_nlp.__version__)"
   ]
  },
  {
   "cell_type": "markdown",
   "id": "1ae0a3e4",
   "metadata": {
    "papermill": {
     "duration": 0.015811,
     "end_time": "2024-09-18T00:03:41.001205",
     "exception": false,
     "start_time": "2024-09-18T00:03:40.985394",
     "status": "completed"
    },
    "tags": []
   },
   "source": [
    "# ⚙️ | Configuration"
   ]
  },
  {
   "cell_type": "code",
   "execution_count": 3,
   "id": "8553a2cc",
   "metadata": {
    "_kg_hide-input": true,
    "execution": {
     "iopub.execute_input": "2024-09-18T00:03:41.035972Z",
     "iopub.status.busy": "2024-09-18T00:03:41.034912Z",
     "iopub.status.idle": "2024-09-18T00:03:41.041659Z",
     "shell.execute_reply": "2024-09-18T00:03:41.040477Z"
    },
    "papermill": {
     "duration": 0.026551,
     "end_time": "2024-09-18T00:03:41.044045",
     "exception": false,
     "start_time": "2024-09-18T00:03:41.017494",
     "status": "completed"
    },
    "tags": []
   },
   "outputs": [],
   "source": [
    "class CFG:\n",
    "    seed = 42  # Random seed,42\n",
    "    preset = \"deberta_v3_base_en\" # Name of pretrained models\n",
    "    sequence_length = 512  #Input sequence length,1024，512,256,128\n",
    "    epochs = 10 #Training epochs\n",
    "    batch_size = 2  # Batch size,32,2\n",
    "    scheduler = 'cosine'  # Learning rate scheduler"
   ]
  },
  {
   "cell_type": "markdown",
   "id": "feb390e4",
   "metadata": {
    "papermill": {
     "duration": 0.016174,
     "end_time": "2024-09-18T00:03:41.076943",
     "exception": false,
     "start_time": "2024-09-18T00:03:41.060769",
     "status": "completed"
    },
    "tags": []
   },
   "source": [
    "# ♻️ | Reproducibility \n",
    "Sets value for random seed to produce similar result in each run."
   ]
  },
  {
   "cell_type": "code",
   "execution_count": 4,
   "id": "62ec7a92",
   "metadata": {
    "execution": {
     "iopub.execute_input": "2024-09-18T00:03:41.112823Z",
     "iopub.status.busy": "2024-09-18T00:03:41.112457Z",
     "iopub.status.idle": "2024-09-18T00:03:41.117773Z",
     "shell.execute_reply": "2024-09-18T00:03:41.116723Z"
    },
    "papermill": {
     "duration": 0.025512,
     "end_time": "2024-09-18T00:03:41.120392",
     "exception": false,
     "start_time": "2024-09-18T00:03:41.094880",
     "status": "completed"
    },
    "tags": []
   },
   "outputs": [],
   "source": [
    "keras.utils.set_random_seed(CFG.seed)"
   ]
  },
  {
   "cell_type": "markdown",
   "id": "8a3496c4",
   "metadata": {
    "papermill": {
     "duration": 0.017886,
     "end_time": "2024-09-18T00:03:41.157914",
     "exception": false,
     "start_time": "2024-09-18T00:03:41.140028",
     "status": "completed"
    },
    "tags": []
   },
   "source": [
    "# 🧮 | Mixed Precision"
   ]
  },
  {
   "cell_type": "code",
   "execution_count": 5,
   "id": "0cdb24f8",
   "metadata": {
    "execution": {
     "iopub.execute_input": "2024-09-18T00:03:41.192103Z",
     "iopub.status.busy": "2024-09-18T00:03:41.191155Z",
     "iopub.status.idle": "2024-09-18T00:03:41.196179Z",
     "shell.execute_reply": "2024-09-18T00:03:41.195124Z"
    },
    "papermill": {
     "duration": 0.024607,
     "end_time": "2024-09-18T00:03:41.198410",
     "exception": false,
     "start_time": "2024-09-18T00:03:41.173803",
     "status": "completed"
    },
    "tags": []
   },
   "outputs": [],
   "source": [
    "keras.mixed_precision.set_global_policy(\"mixed_float16\")"
   ]
  },
  {
   "cell_type": "markdown",
   "id": "86b6c80b",
   "metadata": {
    "papermill": {
     "duration": 0.015667,
     "end_time": "2024-09-18T00:03:41.231063",
     "exception": false,
     "start_time": "2024-09-18T00:03:41.215396",
     "status": "completed"
    },
    "tags": []
   },
   "source": [
    "# 📁 | Dataset Path "
   ]
  },
  {
   "cell_type": "code",
   "execution_count": 6,
   "id": "a484f5bc",
   "metadata": {
    "execution": {
     "iopub.execute_input": "2024-09-18T00:03:41.264952Z",
     "iopub.status.busy": "2024-09-18T00:03:41.264590Z",
     "iopub.status.idle": "2024-09-18T00:03:41.269350Z",
     "shell.execute_reply": "2024-09-18T00:03:41.268375Z"
    },
    "papermill": {
     "duration": 0.024196,
     "end_time": "2024-09-18T00:03:41.271592",
     "exception": false,
     "start_time": "2024-09-18T00:03:41.247396",
     "status": "completed"
    },
    "tags": []
   },
   "outputs": [],
   "source": [
    "BASE_PATH = '/root/autodl-tmp/AES_DeBERTa_V3'"
   ]
  },
  {
   "cell_type": "code",
   "execution_count": 7,
   "id": "35d21356",
   "metadata": {
    "_kg_hide-input": true,
    "execution": {
     "iopub.execute_input": "2024-09-18T00:03:41.337729Z",
     "iopub.status.busy": "2024-09-18T00:03:41.337301Z",
     "iopub.status.idle": "2024-09-18T00:03:42.171202Z",
     "shell.execute_reply": "2024-09-18T00:03:42.170071Z"
    },
    "papermill": {
     "duration": 0.853929,
     "end_time": "2024-09-18T00:03:42.173471",
     "exception": false,
     "start_time": "2024-09-18T00:03:41.319542",
     "status": "completed"
    },
    "tags": []
   },
   "outputs": [
    {
     "name": "stdout",
     "output_type": "stream",
     "text": [
      "# Train Data: 17,307\n",
      "# Sample:\n"
     ]
    },
    {
     "data": {
      "text/html": [
       "<div>\n",
       "<style scoped>\n",
       "    .dataframe tbody tr th:only-of-type {\n",
       "        vertical-align: middle;\n",
       "    }\n",
       "\n",
       "    .dataframe tbody tr th {\n",
       "        vertical-align: top;\n",
       "    }\n",
       "\n",
       "    .dataframe thead th {\n",
       "        text-align: right;\n",
       "    }\n",
       "</style>\n",
       "<table border=\"1\" class=\"dataframe\">\n",
       "  <thead>\n",
       "    <tr style=\"text-align: right;\">\n",
       "      <th></th>\n",
       "      <th>essay_id</th>\n",
       "      <th>full_text</th>\n",
       "      <th>score</th>\n",
       "    </tr>\n",
       "  </thead>\n",
       "  <tbody>\n",
       "    <tr>\n",
       "      <th>0</th>\n",
       "      <td>000d118</td>\n",
       "      <td>Many people have car where they live. The thin...</td>\n",
       "      <td>3</td>\n",
       "    </tr>\n",
       "    <tr>\n",
       "      <th>1</th>\n",
       "      <td>000fe60</td>\n",
       "      <td>I am a scientist at NASA that is discussing th...</td>\n",
       "      <td>3</td>\n",
       "    </tr>\n",
       "  </tbody>\n",
       "</table>\n",
       "</div>"
      ],
      "text/plain": [
       "  essay_id                                          full_text  score\n",
       "0  000d118  Many people have car where they live. The thin...      3\n",
       "1  000fe60  I am a scientist at NASA that is discussing th...      3"
      ]
     },
     "metadata": {},
     "output_type": "display_data"
    }
   ],
   "source": [
    "# Load data\n",
    "df = pd.read_csv(f'{BASE_PATH}/train.csv')  # Read CSV file into a DataFrame\n",
    "\n",
    "# Display information about the train data\n",
    "print(\"# Train Data: {:,}\".format(len(df)))\n",
    "print(\"# Sample:\")\n",
    "display(df.head(2))"
   ]
  },
  {
   "cell_type": "markdown",
   "id": "e1bfa102",
   "metadata": {
    "papermill": {
     "duration": 0.015765,
     "end_time": "2024-09-18T00:03:42.204576",
     "exception": false,
     "start_time": "2024-09-18T00:03:42.188811",
     "status": "completed"
    },
    "tags": []
   },
   "source": [
    "# 🔪 | Data Split\n",
    "\n",
    "In the code snippet provided below, we will divide the existing **train** data into folds using a stratification of `label` column."
   ]
  },
  {
   "cell_type": "code",
   "execution_count": 8,
   "id": "da4f53be",
   "metadata": {
    "execution": {
     "iopub.execute_input": "2024-09-18T00:03:42.237796Z",
     "iopub.status.busy": "2024-09-18T00:03:42.237394Z",
     "iopub.status.idle": "2024-09-18T00:03:43.366039Z",
     "shell.execute_reply": "2024-09-18T00:03:43.365149Z"
    },
    "papermill": {
     "duration": 1.148109,
     "end_time": "2024-09-18T00:03:43.368527",
     "exception": false,
     "start_time": "2024-09-18T00:03:42.220418",
     "status": "completed"
    },
    "tags": []
   },
   "outputs": [],
   "source": [
    "from sklearn.model_selection import train_test_split  # Import package\n",
    "\n",
    "train_df, valid_df = train_test_split(df, test_size=0.2, stratify=df[\"score\"])"
   ]
  },
  {
   "cell_type": "markdown",
   "id": "fcefb855",
   "metadata": {
    "papermill": {
     "duration": 0.015793,
     "end_time": "2024-09-18T00:03:43.399865",
     "exception": false,
     "start_time": "2024-09-18T00:03:43.384072",
     "status": "completed"
    },
    "tags": []
   },
   "source": [
    "# 🧂 | Process Labels for Ordinal Regression\n",
    "\n",
    "**What is Ordinal Regression?**\n",
    "Ordinal regression is a type of supervised learning algorithm used to predict an ordinal or ranked dependent variable. Unlike in typical classification problems where the target variable is categorical, in ordinal regression the target variable has a ordering or ranking. It is also different from typical regression, where the target variable is continuous. In ordinal regression, the target variable has a discrete, ordered set of values, such as levels of satisfaction or performance grades.\n",
    "\n",
    "**Why do we need it?**\n",
    "Ordinal regression is useful when the target variable (in our competition, the `score` of an essay) represents a ranking or order. Specifically, ordinal regression can capture the inherent order in the target variable, which standard classification models may not be able to do effectively.\n",
    "\n",
    "For Ordinal Regression, we have to transform the labels, which is different from typical classification or regression. The following code will convert essay scores to an ordinal matrix, which will be used as the ground truth for calculating the loss."
   ]
  },
  {
   "cell_type": "code",
   "execution_count": 9,
   "id": "5e16dabb",
   "metadata": {
    "execution": {
     "iopub.execute_input": "2024-09-18T00:03:43.433778Z",
     "iopub.status.busy": "2024-09-18T00:03:43.432467Z",
     "iopub.status.idle": "2024-09-18T00:03:43.443339Z",
     "shell.execute_reply": "2024-09-18T00:03:43.442342Z"
    },
    "papermill": {
     "duration": 0.030171,
     "end_time": "2024-09-18T00:03:43.445492",
     "exception": false,
     "start_time": "2024-09-18T00:03:43.415321",
     "status": "completed"
    },
    "tags": []
   },
   "outputs": [],
   "source": [
    "def to_ordinal(y, num_classes=None, dtype=\"float32\"):\n",
    "    \"\"\"\n",
    "      将类别向量（整数）转换为序数回归矩阵。\n",
    "\n",
    "      此工具将类别向量编码为序数回归/分类矩阵，其中每个样本由一行表示，该样本的等级由该行中的 1 的数量表示。\n",
    "\n",
    "    参数：\n",
    "      y: 类别值的数组，将其转换为矩阵（整数范围从 0 到 `num_classes - 1`）。\n",
    "      num_classes: 类别总数。如果为 `None`，则推断为 `max(y) + 1`。\n",
    "      dtype: 输入所需的数据类型。默认值：`'float32'`。\n",
    "\n",
    "    返回：\n",
    "      输入的序数回归矩阵表示形式，作为 NumPy 数组返回。类别轴放在最后。\n",
    "\n",
    "    \"\"\"\n",
    "    y = np.array(y, dtype=\"int\")\n",
    "    input_shape = y.shape\n",
    "\n",
    "    # Shrink the last dimension if the shape is (..., 1).\n",
    "    if input_shape and input_shape[-1] == 1 and len(input_shape) > 1:\n",
    "        input_shape = tuple(input_shape[:-1])\n",
    "\n",
    "    y = y.reshape(-1)\n",
    "    if not num_classes:\n",
    "        num_classes = np.max(y) + 1\n",
    "    n = y.shape[0]\n",
    "    range_values = np.arange(num_classes - 1)\n",
    "    range_values = np.tile(np.expand_dims(range_values, 0), [n, 1])\n",
    "    ordinal = np.zeros((n, num_classes - 1), dtype=dtype)\n",
    "    ordinal[range_values < np.expand_dims(y, -1)] = 1\n",
    "    output_shape = input_shape + (num_classes - 1,)\n",
    "    ordinal = np.reshape(ordinal, output_shape)\n",
    "    return ordinal"
   ]
  },
  {
   "cell_type": "code",
   "execution_count": 10,
   "id": "bfab296f",
   "metadata": {
    "execution": {
     "iopub.execute_input": "2024-09-18T00:03:43.479158Z",
     "iopub.status.busy": "2024-09-18T00:03:43.478266Z",
     "iopub.status.idle": "2024-09-18T00:03:43.486710Z",
     "shell.execute_reply": "2024-09-18T00:03:43.485605Z"
    },
    "papermill": {
     "duration": 0.027303,
     "end_time": "2024-09-18T00:03:43.488845",
     "exception": false,
     "start_time": "2024-09-18T00:03:43.461542",
     "status": "completed"
    },
    "tags": []
   },
   "outputs": [
    {
     "data": {
      "text/plain": [
       "array([[1., 0., 0., 0., 0., 0.],\n",
       "       [1., 1., 0., 0., 0., 0.],\n",
       "       [1., 1., 1., 0., 0., 0.],\n",
       "       [1., 1., 1., 1., 0., 0.],\n",
       "       [1., 1., 1., 1., 1., 0.],\n",
       "       [1., 1., 1., 1., 1., 1.]], dtype=float32)"
      ]
     },
     "execution_count": 10,
     "metadata": {},
     "output_type": "execute_result"
    }
   ],
   "source": [
    "scores = [1,2,3,4,5,6]\n",
    "\n",
    "to_ordinal(scores)"
   ]
  },
  {
   "cell_type": "markdown",
   "id": "0cd2ba58",
   "metadata": {
    "papermill": {
     "duration": 0.015313,
     "end_time": "2024-09-18T00:03:43.574001",
     "exception": false,
     "start_time": "2024-09-18T00:03:43.558688",
     "status": "completed"
    },
    "tags": []
   },
   "source": [
    "## Label Conversion"
   ]
  },
  {
   "cell_type": "code",
   "execution_count": 11,
   "id": "5352b52e",
   "metadata": {
    "execution": {
     "iopub.execute_input": "2024-09-18T00:03:43.607341Z",
     "iopub.status.busy": "2024-09-18T00:03:43.606260Z",
     "iopub.status.idle": "2024-09-18T00:03:43.628610Z",
     "shell.execute_reply": "2024-09-18T00:03:43.627449Z"
    },
    "papermill": {
     "duration": 0.041874,
     "end_time": "2024-09-18T00:03:43.631094",
     "exception": false,
     "start_time": "2024-09-18T00:03:43.589220",
     "status": "completed"
    },
    "tags": []
   },
   "outputs": [],
   "source": [
    "train_df[\"label\"] = to_ordinal(train_df.score.values).tolist()\n",
    "valid_df[\"label\"] = to_ordinal(valid_df.score.values).tolist()"
   ]
  },
  {
   "cell_type": "markdown",
   "id": "05e47963",
   "metadata": {
    "papermill": {
     "duration": 0.017721,
     "end_time": "2024-09-18T00:03:44.305980",
     "exception": false,
     "start_time": "2024-09-18T00:03:44.288259",
     "status": "completed"
    },
    "tags": []
   },
   "source": [
    "# 🍽️ | Preprocessing\n",
    "\n",
    "**What it does:** The preprocessor takes input strings and transforms them into a dictionary (`token_ids`, `padding_mask`) containing preprocessed tensors. This process starts with tokenization, where input strings are converted into sequences of token IDs.\n",
    "\n",
    "**Why it's important:** Initially, raw text data is complex and challenging for modeling due to its high dimensionality. By converting text into a compact set of tokens, such as transforming `\"The quick brown fox\"` into `[\"the\", \"qu\", \"##ick\", \"br\", \"##own\", \"fox\"]`, we simplify the data. Many models rely on special tokens and additional tensors to understand input. These tokens help divide input and identify padding, among other tasks. Making all sequences the same length through padding boosts computational efficiency, making subsequent steps smoother.\n",
    "\n",
    "Explore the following pages to access the available preprocessing and tokenizer layers in **KerasNLP**:\n",
    "- [Preprocessing](https://keras.io/api/keras_nlp/preprocessing_layers/)\n",
    "- [Tokenizers](https://keras.io/api/keras_nlp/tokenizers/)"
   ]
  },
  {
   "cell_type": "code",
   "execution_count": 12,
   "id": "5650584b",
   "metadata": {
    "execution": {
     "iopub.execute_input": "2024-09-18T00:03:44.342387Z",
     "iopub.status.busy": "2024-09-18T00:03:44.341265Z",
     "iopub.status.idle": "2024-09-18T00:03:46.849151Z",
     "shell.execute_reply": "2024-09-18T00:03:46.848274Z"
    },
    "papermill": {
     "duration": 2.528602,
     "end_time": "2024-09-18T00:03:46.851820",
     "exception": false,
     "start_time": "2024-09-18T00:03:44.323218",
     "status": "completed"
    },
    "tags": []
   },
   "outputs": [
    {
     "name": "stderr",
     "output_type": "stream",
     "text": [
      "2024-12-20 03:07:54.729799: I tensorflow/core/common_runtime/gpu/gpu_device.cc:1928] Created device /job:localhost/replica:0/task:0/device:GPU:0 with 18425 MB memory:  -> device: 0, name: NVIDIA GeForce RTX 3080, pci bus id: 0000:18:00.0, compute capability: 8.6\n"
     ]
    }
   ],
   "source": [
    "preprocessor = keras_nlp.models.DebertaV3Preprocessor.from_preset(\n",
    "    preset=CFG.preset, # Name of the model\n",
    "    sequence_length=CFG.sequence_length, # Max sequence length, will be padded if shorter\n",
    ")"
   ]
  },
  {
   "cell_type": "markdown",
   "id": "c209cbab",
   "metadata": {
    "papermill": {
     "duration": 0.017221,
     "end_time": "2024-09-18T00:03:46.886906",
     "exception": false,
     "start_time": "2024-09-18T00:03:46.869685",
     "status": "completed"
    },
    "tags": []
   },
   "source": [
    "Now, let's examine what the output shape of the preprocessing layer looks like. The output shape of the layer can be represented as $(num\\_choices, sequence\\_length)$."
   ]
  },
  {
   "cell_type": "code",
   "execution_count": 13,
   "id": "d3c1b6fa",
   "metadata": {
    "execution": {
     "iopub.execute_input": "2024-09-18T00:03:46.924372Z",
     "iopub.status.busy": "2024-09-18T00:03:46.923681Z",
     "iopub.status.idle": "2024-09-18T00:03:48.225786Z",
     "shell.execute_reply": "2024-09-18T00:03:48.224795Z"
    },
    "papermill": {
     "duration": 1.323684,
     "end_time": "2024-09-18T00:03:48.228256",
     "exception": false,
     "start_time": "2024-09-18T00:03:46.904572",
     "status": "completed"
    },
    "tags": []
   },
   "outputs": [
    {
     "name": "stdout",
     "output_type": "stream",
     "text": [
      "token_ids : (512,)\n",
      "padding_mask : (512,)\n"
     ]
    },
    {
     "name": "stderr",
     "output_type": "stream",
     "text": [
      "2024-12-20 03:07:55.606151: E tensorflow/core/util/util.cc:131] oneDNN supports DT_INT64 only on platforms with AVX-512. Falling back to the default Eigen-based implementation if present.\n"
     ]
    }
   ],
   "source": [
    "inp = preprocessor(df.full_text.iloc[0])  # Process text for the first row\n",
    "\n",
    "# Display the shape of each processed output\n",
    "for k, v in inp.items():\n",
    "    print(k, \":\", v.shape)"
   ]
  },
  {
   "cell_type": "markdown",
   "id": "8d998e4d",
   "metadata": {
    "papermill": {
     "duration": 0.017054,
     "end_time": "2024-09-18T00:03:48.263269",
     "exception": false,
     "start_time": "2024-09-18T00:03:48.246215",
     "status": "completed"
    },
    "tags": []
   },
   "source": [
    "We'll use the `preprocessing_fn` function to transform each text option using the `dataset.map(preprocessing_fn)` method."
   ]
  },
  {
   "cell_type": "code",
   "execution_count": 14,
   "id": "4091e6f0",
   "metadata": {
    "execution": {
     "iopub.execute_input": "2024-09-18T00:03:48.301321Z",
     "iopub.status.busy": "2024-09-18T00:03:48.300349Z",
     "iopub.status.idle": "2024-09-18T00:03:48.305931Z",
     "shell.execute_reply": "2024-09-18T00:03:48.304931Z"
    },
    "papermill": {
     "duration": 0.027216,
     "end_time": "2024-09-18T00:03:48.308144",
     "exception": false,
     "start_time": "2024-09-18T00:03:48.280928",
     "status": "completed"
    },
    "tags": []
   },
   "outputs": [],
   "source": [
    "def preprocess_fn(text, label=None):\n",
    "    text = preprocessor(text)  # Preprocess text\n",
    "    return (text, label) if label is not None else text  # Return processed text and label if available"
   ]
  },
  {
   "cell_type": "markdown",
   "id": "b4e2650a",
   "metadata": {
    "papermill": {
     "duration": 0.018144,
     "end_time": "2024-09-18T00:03:48.344736",
     "exception": false,
     "start_time": "2024-09-18T00:03:48.326592",
     "status": "completed"
    },
    "tags": []
   },
   "source": [
    "# 🍚 | DataLoader\n",
    "\n",
    "The code below sets up a robust data flow pipeline using `tf.data.Dataset` for data processing. Notable aspects of `tf.data` include its ability to simplify pipeline construction and represent components in sequences.\n",
    "\n",
    "To learn more about `tf.data`, refer to this [documentation](https://www.tensorflow.org/guide/data)."
   ]
  },
  {
   "cell_type": "code",
   "execution_count": 15,
   "id": "36f47bbe",
   "metadata": {
    "_kg_hide-input": true,
    "execution": {
     "iopub.execute_input": "2024-09-18T00:03:48.383078Z",
     "iopub.status.busy": "2024-09-18T00:03:48.382707Z",
     "iopub.status.idle": "2024-09-18T00:03:48.390993Z",
     "shell.execute_reply": "2024-09-18T00:03:48.389952Z"
    },
    "papermill": {
     "duration": 0.029696,
     "end_time": "2024-09-18T00:03:48.393391",
     "exception": false,
     "start_time": "2024-09-18T00:03:48.363695",
     "status": "completed"
    },
    "tags": []
   },
   "outputs": [],
   "source": [
    "def build_dataset(texts, labels=None, batch_size=32,\n",
    "                  cache=True, drop_remainder=True,\n",
    "                  shuffle=1024):\n",
    "    AUTO = tf.data.AUTOTUNE  # AUTOTUNE option\n",
    "    slices = (texts,) if labels is None else (texts, labels)  # Create slices\n",
    "    ds = tf.data.Dataset.from_tensor_slices(slices)  # Create dataset from slices\n",
    "    ds = ds.cache() if cache else ds  # Cache dataset if enabled\n",
    "    ds = ds.map(preprocess_fn, num_parallel_calls=AUTO)  # Map preprocessing function\n",
    "    opt = tf.data.Options()  # Create dataset options\n",
    "    if shuffle: \n",
    "        ds = ds.shuffle(shuffle, seed=CFG.seed)  # Shuffle dataset if enabled\n",
    "        opt.experimental_deterministic = False\n",
    "    ds = ds.with_options(opt)  # Set dataset options\n",
    "    ds = ds.batch(batch_size, drop_remainder=drop_remainder)  # Batch dataset\n",
    "    ds = ds.prefetch(AUTO)  # Prefetch next batch\n",
    "    return ds"
   ]
  },
  {
   "cell_type": "markdown",
   "id": "e509212d",
   "metadata": {
    "papermill": {
     "duration": 0.01641,
     "end_time": "2024-09-18T00:03:48.426843",
     "exception": false,
     "start_time": "2024-09-18T00:03:48.410433",
     "status": "completed"
    },
    "tags": []
   },
   "source": [
    "## Build Train/Valid Dataset\n",
    "\n",
    "The function below generates the training and validation datasets."
   ]
  },
  {
   "cell_type": "code",
   "execution_count": 16,
   "id": "6c5d9a37",
   "metadata": {
    "_kg_hide-input": false,
    "execution": {
     "iopub.execute_input": "2024-09-18T00:03:48.464439Z",
     "iopub.status.busy": "2024-09-18T00:03:48.462946Z",
     "iopub.status.idle": "2024-09-18T00:03:52.056774Z",
     "shell.execute_reply": "2024-09-18T00:03:52.055657Z"
    },
    "papermill": {
     "duration": 3.615706,
     "end_time": "2024-09-18T00:03:52.059648",
     "exception": false,
     "start_time": "2024-09-18T00:03:48.443942",
     "status": "completed"
    },
    "tags": []
   },
   "outputs": [],
   "source": [
    "# Train Data\n",
    "train_texts = train_df.full_text.tolist()  # Extract training texts\n",
    "train_labels = np.array(train_df.label.tolist())  # Extract training labels\n",
    "\n",
    "# Build training dataset\n",
    "train_ds = build_dataset(\n",
    "    train_texts, train_labels, batch_size=CFG.batch_size, shuffle=True\n",
    ")\n",
    "\n",
    "# Valid Data\n",
    "valid_texts = valid_df.full_text.tolist()  # Extract validation texts\n",
    "valid_labels = np.array(valid_df.label.tolist())  # Extract validation labels\n",
    "\n",
    "# Build validation dataset\n",
    "valid_ds = build_dataset(\n",
    "    valid_texts, valid_labels, batch_size=CFG.batch_size, shuffle=False\n",
    ")\n"
   ]
  },
  {
   "cell_type": "markdown",
   "id": "bf3367bd",
   "metadata": {
    "papermill": {
     "duration": 0.018224,
     "end_time": "2024-09-18T00:03:52.097194",
     "exception": false,
     "start_time": "2024-09-18T00:03:52.078970",
     "status": "completed"
    },
    "tags": []
   },
   "source": [
    "# ⚓ | LR Schedule\n",
    "\n",
    "Implementing a learning rate scheduler is crucial for transfer learning. The learning rate initiates at `lr_start` and gradually tapers down to `lr_min` using various techniques, including:\n",
    "- `step`: Lowering the learning rate in step-wise manner resembling stairs.\n",
    "- `cos`: Utilizing a cosine curve to gradually reduce the learning rate.\n",
    "- `exp`: Exponentially decreasing the learning rate.\n",
    "\n",
    "**Importance:** A well-structured learning rate schedule is essential for efficient model training, ensuring optimal convergence and avoiding issues such as overshooting or stagnation."
   ]
  },
  {
   "cell_type": "code",
   "execution_count": 17,
   "id": "6ad627f0",
   "metadata": {
    "_kg_hide-input": true,
    "execution": {
     "iopub.execute_input": "2024-09-18T00:03:52.134444Z",
     "iopub.status.busy": "2024-09-18T00:03:52.133628Z",
     "iopub.status.idle": "2024-09-18T00:03:52.146342Z",
     "shell.execute_reply": "2024-09-18T00:03:52.145334Z"
    },
    "papermill": {
     "duration": 0.033443,
     "end_time": "2024-09-18T00:03:52.148673",
     "exception": false,
     "start_time": "2024-09-18T00:03:52.115230",
     "status": "completed"
    },
    "tags": []
   },
   "outputs": [],
   "source": [
    "import math\n",
    "\n",
    "def get_lr_callback(batch_size=2, mode='cos', epochs=10, plot=False):\n",
    "    lr_start, lr_max, lr_min = 0.6e-5, 0.3e-5 * batch_size, 0.3e-5\n",
    "    lr_ramp_ep, lr_sus_ep, lr_decay = 2, 0, 0.75\n",
    "\n",
    "    def lrfn(epoch):  # Learning rate update function\n",
    "        if epoch < lr_ramp_ep: lr = (lr_max - lr_start) / lr_ramp_ep * epoch + lr_start\n",
    "        elif epoch < lr_ramp_ep + lr_sus_ep: lr = lr_max\n",
    "        elif mode == 'exp': lr = (lr_max - lr_min) * lr_decay**(epoch - lr_ramp_ep - lr_sus_ep) + lr_min\n",
    "        elif mode == 'step': lr = lr_max * lr_decay**((epoch - lr_ramp_ep - lr_sus_ep) // 2)\n",
    "        elif mode == 'cos':\n",
    "            decay_total_epochs, decay_epoch_index = epochs - lr_ramp_ep - lr_sus_ep + 3, epoch - lr_ramp_ep - lr_sus_ep\n",
    "            phase = math.pi * decay_epoch_index / decay_total_epochs\n",
    "            lr = (lr_max - lr_min) * 0.5 * (1 + math.cos(phase)) + lr_min\n",
    "        return lr\n",
    "\n",
    "    if plot:  # Plot lr curve if plot is True\n",
    "        plt.figure(figsize=(10, 5))\n",
    "        plt.plot(np.arange(epochs), [lrfn(epoch) for epoch in np.arange(epochs)], marker='o')\n",
    "        plt.xlabel('epoch'); plt.ylabel('lr')\n",
    "        plt.title('LR Scheduler')\n",
    "        plt.show()\n",
    "\n",
    "    return keras.callbacks.LearningRateScheduler(lrfn, verbose=False)  # Create lr callback"
   ]
  },
  {
   "cell_type": "code",
   "execution_count": 18,
   "id": "ee6dbb04",
   "metadata": {
    "execution": {
     "iopub.execute_input": "2024-09-18T00:03:52.184152Z",
     "iopub.status.busy": "2024-09-18T00:03:52.183774Z",
     "iopub.status.idle": "2024-09-18T00:03:52.420615Z",
     "shell.execute_reply": "2024-09-18T00:03:52.419539Z"
    },
    "papermill": {
     "duration": 0.257149,
     "end_time": "2024-09-18T00:03:52.422915",
     "exception": false,
     "start_time": "2024-09-18T00:03:52.165766",
     "status": "completed"
    },
    "tags": []
   },
   "outputs": [
    {
     "data": {
      "image/png": "[encoded data removed]",
      "text/plain": [
       "<Figure size 1000x500 with 1 Axes>"
      ]
     },
     "metadata": {},
     "output_type": "display_data"
    },
    {
     "name": "stdout",
     "output_type": "stream",
     "text": [
      "<class 'keras.src.callbacks.learning_rate_scheduler.LearningRateScheduler'>\n"
     ]
    }
   ],
   "source": [
    "lr_cb = get_lr_callback(CFG.batch_size, plot=True)\n",
    "print(type(lr_cb))\n"
   ]
  },
  {
   "cell_type": "code",
   "execution_count": 19,
   "id": "c900a9d7",
   "metadata": {
    "execution": {
     "iopub.execute_input": "2024-09-18T00:03:52.495087Z",
     "iopub.status.busy": "2024-09-18T00:03:52.494710Z",
     "iopub.status.idle": "2024-09-18T00:03:52.499841Z",
     "shell.execute_reply": "2024-09-18T00:03:52.498769Z"
    },
    "papermill": {
     "duration": 0.026542,
     "end_time": "2024-09-18T00:03:52.501968",
     "exception": false,
     "start_time": "2024-09-18T00:03:52.475426",
     "status": "completed"
    },
    "tags": []
   },
   "outputs": [],
   "source": [
    "ckpt_cb = keras.callbacks.ModelCheckpoint(\n",
    "    \"best_model.weights.h5\",\n",
    "    monitor=\"val_weighted_kappa\",\n",
    "    save_best_only=True,\n",
    "    save_weights_only=True,\n",
    "    mode=\"max\",\n",
    ")\n"
   ]
  },
  {
   "cell_type": "code",
   "execution_count": 20,
   "id": "351b1ef0",
   "metadata": {
    "execution": {
     "iopub.execute_input": "2024-09-18T00:03:52.575493Z",
     "iopub.status.busy": "2024-09-18T00:03:52.575067Z",
     "iopub.status.idle": "2024-09-18T00:03:52.594758Z",
     "shell.execute_reply": "2024-09-18T00:03:52.593629Z"
    },
    "papermill": {
     "duration": 0.041664,
     "end_time": "2024-09-18T00:03:52.596880",
     "exception": false,
     "start_time": "2024-09-18T00:03:52.555216",
     "status": "completed"
    },
    "tags": []
   },
   "outputs": [],
   "source": [
    "class WeightedKappa(keras.metrics.Metric):\n",
    "    def __init__(self, num_classes=6, epsilon=1e-6):\n",
    "        super().__init__(name=\"weighted_kappa\")\n",
    "        self.num_classes = num_classes\n",
    "        self.epsilon = epsilon\n",
    "\n",
    "        label_vec = keras.ops.arange(num_classes, dtype=keras.backend.floatx())\n",
    "        self.row_label_vec = keras.ops.reshape(label_vec, [1, num_classes])\n",
    "        self.col_label_vec = keras.ops.reshape(label_vec, [num_classes, 1])\n",
    "        col_mat = keras.ops.tile(self.col_label_vec, [1, num_classes])\n",
    "        row_mat = keras.ops.tile(self.row_label_vec, [num_classes, 1])\n",
    "        self.weight_mat = (col_mat - row_mat) ** 2\n",
    "\n",
    "        self.numerator = self.add_weight(name=\"numerator\", initializer=\"zeros\")\n",
    "        self.denominator = self.add_weight(name=\"denominator\", initializer=\"zeros\")\n",
    "        self.o_sum = self.add_weight(name=\"o_sum\", initializer=\"zeros\")\n",
    "        self.e_sum = self.add_weight(name=\"e_sum\", initializer=\"zeros\")\n",
    "\n",
    "    def update_state(self, y_true, y_pred, **args):\n",
    "        # revert ordinal regression labels to classification labels\n",
    "        y_true = keras.ops.one_hot(\n",
    "            keras.ops.sum(keras.ops.cast(y_true, dtype=\"int8\"), axis=-1) - 1, 6\n",
    "        )\n",
    "        y_pred = keras.ops.one_hot(\n",
    "            keras.ops.sum(keras.ops.cast(y_pred > 0.5, dtype=\"int8\"), axis=-1) - 1, 6\n",
    "        )\n",
    "        # weighted kappa calculation\n",
    "        y_true = keras.ops.cast(y_true, dtype=self.col_label_vec.dtype)\n",
    "        y_pred = keras.ops.cast(y_pred, dtype=self.weight_mat.dtype)\n",
    "        batch_size = keras.ops.shape(y_true)[0]\n",
    "\n",
    "        cat_labels = keras.ops.matmul(y_true, self.col_label_vec)\n",
    "        cat_label_mat = keras.ops.tile(cat_labels, [1, self.num_classes])\n",
    "        row_label_mat = keras.ops.tile(self.row_label_vec, [batch_size, 1])\n",
    "\n",
    "        weight = (cat_label_mat - row_label_mat) ** 2\n",
    "\n",
    "        self.numerator.assign_add(keras.ops.sum(weight * y_pred))\n",
    "        label_dist = keras.ops.sum(y_true, axis=0, keepdims=True)\n",
    "        pred_dist = keras.ops.sum(y_pred, axis=0, keepdims=True)\n",
    "        w_pred_dist = keras.ops.matmul(\n",
    "            self.weight_mat, keras.ops.transpose(pred_dist, [1, 0])\n",
    "        )\n",
    "        self.denominator.assign_add(\n",
    "            keras.ops.sum(keras.ops.matmul(label_dist, w_pred_dist))\n",
    "        )\n",
    "\n",
    "        self.o_sum.assign_add(keras.ops.sum(y_pred))\n",
    "        self.e_sum.assign_add(\n",
    "            keras.ops.sum(\n",
    "                keras.ops.matmul(keras.ops.transpose(label_dist, [1, 0]), pred_dist)\n",
    "            )\n",
    "        )\n",
    "\n",
    "    def result(self):\n",
    "        return 1.0 - (\n",
    "            keras.ops.divide_no_nan(self.numerator, self.denominator)\n",
    "            * keras.ops.divide_no_nan(self.e_sum, self.o_sum)\n",
    "        )\n",
    "\n",
    "    def reset_state(self):\n",
    "        self.numerator.assign(0)\n",
    "        self.denominator.assign(0)\n",
    "        self.o_sum.assign(0)\n",
    "        self.e_sum.assign(0)\n"
   ]
  },
  {
   "cell_type": "markdown",
   "id": "641c49d4",
   "metadata": {
    "papermill": {
     "duration": 0.017821,
     "end_time": "2024-09-18T00:03:52.633253",
     "exception": false,
     "start_time": "2024-09-18T00:03:52.615432",
     "status": "completed"
    },
    "tags": []
   },
   "source": [
    "# 🤖 | Modeling\n",
    "\n"
   ]
  },
  {
   "cell_type": "code",
   "execution_count": 21,
   "id": "d3d51d4e",
   "metadata": {
    "execution": {
     "iopub.execute_input": "2024-09-18T00:03:52.708164Z",
     "iopub.status.busy": "2024-09-18T00:03:52.707786Z",
     "iopub.status.idle": "2024-09-18T00:04:01.671267Z",
     "shell.execute_reply": "2024-09-18T00:04:01.670273Z"
    },
    "papermill": {
     "duration": 8.985559,
     "end_time": "2024-09-18T00:04:01.673560",
     "exception": false,
     "start_time": "2024-09-18T00:03:52.688001",
     "status": "completed"
    },
    "tags": []
   },
   "outputs": [
    {
     "name": "stdout",
     "output_type": "stream",
     "text": [
      "<class 'keras.src.backend.common.keras_tensor.KerasTensor'> (None, 6)\n"
     ]
    },
    {
     "data": {
      "text/html": [
       "<pre style=\"white-space:pre;overflow-x:auto;line-height:normal;font-family:Menlo,'DejaVu Sans Mono',consolas,'Courier New',monospace\"><span style=\"font-weight: bold\">Model: \"functional_1\"</span>\n",
       "</pre>\n"
      ],
      "text/plain": [
       "\u001b[1mModel: \"functional_1\"\u001b[0m\n"
      ]
     },
     "metadata": {},
     "output_type": "display_data"
    },
    {
     "data": {
      "text/html": [
       "<pre style=\"white-space:pre;overflow-x:auto;line-height:normal;font-family:Menlo,'DejaVu Sans Mono',consolas,'Courier New',monospace\">┏━━━━━━━━━━━━━━━━━━━━━┳━━━━━━━━━━━━━━━━━━━┳━━━━━━━━━━━━┳━━━━━━━━━━━━━━━━━━━┓\n",
       "┃<span style=\"font-weight: bold\"> Layer (type)        </span>┃<span style=\"font-weight: bold\"> Output Shape      </span>┃<span style=\"font-weight: bold\">    Param # </span>┃<span style=\"font-weight: bold\"> Connected to      </span>┃\n",
       "┡━━━━━━━━━━━━━━━━━━━━━╇━━━━━━━━━━━━━━━━━━━╇━━━━━━━━━━━━╇━━━━━━━━━━━━━━━━━━━┩\n",
       "│ padding_mask        │ (<span style=\"color: #00d7ff; text-decoration-color: #00d7ff\">None</span>, <span style=\"color: #00d7ff; text-decoration-color: #00d7ff\">None</span>)      │          <span style=\"color: #00af00; text-decoration-color: #00af00\">0</span> │ -                 │\n",
       "│ (<span style=\"color: #0087ff; text-decoration-color: #0087ff\">InputLayer</span>)        │                   │            │                   │\n",
       "├─────────────────────┼───────────────────┼────────────┼───────────────────┤\n",
       "│ token_ids           │ (<span style=\"color: #00d7ff; text-decoration-color: #00d7ff\">None</span>, <span style=\"color: #00d7ff; text-decoration-color: #00d7ff\">None</span>)      │          <span style=\"color: #00af00; text-decoration-color: #00af00\">0</span> │ -                 │\n",
       "│ (<span style=\"color: #0087ff; text-decoration-color: #0087ff\">InputLayer</span>)        │                   │            │                   │\n",
       "├─────────────────────┼───────────────────┼────────────┼───────────────────┤\n",
       "│ deberta_v3_classif… │ (<span style=\"color: #00d7ff; text-decoration-color: #00d7ff\">None</span>, <span style=\"color: #00af00; text-decoration-color: #00af00\">6</span>)         │ <span style=\"color: #00af00; text-decoration-color: #00af00\">184,426,7…</span> │ padding_mask[<span style=\"color: #00af00; text-decoration-color: #00af00\">0</span>][<span style=\"color: #00af00; text-decoration-color: #00af00\">…</span> │\n",
       "│ (<span style=\"color: #0087ff; text-decoration-color: #0087ff\">DebertaV3Classifi…</span> │                   │            │ token_ids[<span style=\"color: #00af00; text-decoration-color: #00af00\">0</span>][<span style=\"color: #00af00; text-decoration-color: #00af00\">0</span>]   │\n",
       "├─────────────────────┼───────────────────┼────────────┼───────────────────┤\n",
       "│ activation          │ (<span style=\"color: #00d7ff; text-decoration-color: #00d7ff\">None</span>, <span style=\"color: #00af00; text-decoration-color: #00af00\">6</span>)         │          <span style=\"color: #00af00; text-decoration-color: #00af00\">0</span> │ deberta_v3_class… │\n",
       "│ (<span style=\"color: #0087ff; text-decoration-color: #0087ff\">Activation</span>)        │                   │            │                   │\n",
       "└─────────────────────┴───────────────────┴────────────┴───────────────────┘\n",
       "</pre>\n"
      ],
      "text/plain": [
       "┏━━━━━━━━━━━━━━━━━━━━━┳━━━━━━━━━━━━━━━━━━━┳━━━━━━━━━━━━┳━━━━━━━━━━━━━━━━━━━┓\n",
       "┃\u001b[1m \u001b[0m\u001b[1mLayer (type)       \u001b[0m\u001b[1m \u001b[0m┃\u001b[1m \u001b[0m\u001b[1mOutput Shape     \u001b[0m\u001b[1m \u001b[0m┃\u001b[1m \u001b[0m\u001b[1m   Param #\u001b[0m\u001b[1m \u001b[0m┃\u001b[1m \u001b[0m\u001b[1mConnected to     \u001b[0m\u001b[1m \u001b[0m┃\n",
       "┡━━━━━━━━━━━━━━━━━━━━━╇━━━━━━━━━━━━━━━━━━━╇━━━━━━━━━━━━╇━━━━━━━━━━━━━━━━━━━┩\n",
       "│ padding_mask        │ (\u001b[38;5;45mNone\u001b[0m, \u001b[38;5;45mNone\u001b[0m)      │          \u001b[38;5;34m0\u001b[0m │ -                 │\n",
       "│ (\u001b[38;5;33mInputLayer\u001b[0m)        │                   │            │                   │\n",
       "├─────────────────────┼───────────────────┼────────────┼───────────────────┤\n",
       "│ token_ids           │ (\u001b[38;5;45mNone\u001b[0m, \u001b[38;5;45mNone\u001b[0m)      │          \u001b[38;5;34m0\u001b[0m │ -                 │\n",
       "│ (\u001b[38;5;33mInputLayer\u001b[0m)        │                   │            │                   │\n",
       "├─────────────────────┼───────────────────┼────────────┼───────────────────┤\n",
       "│ deberta_v3_classif… │ (\u001b[38;5;45mNone\u001b[0m, \u001b[38;5;34m6\u001b[0m)         │ \u001b[38;5;34m184,426,7…\u001b[0m │ padding_mask[\u001b[38;5;34m0\u001b[0m][\u001b[38;5;34m…\u001b[0m │\n",
       "│ (\u001b[38;5;33mDebertaV3Classifi…\u001b[0m │                   │            │ token_ids[\u001b[38;5;34m0\u001b[0m][\u001b[38;5;34m0\u001b[0m]   │\n",
       "├─────────────────────┼───────────────────┼────────────┼───────────────────┤\n",
       "│ activation          │ (\u001b[38;5;45mNone\u001b[0m, \u001b[38;5;34m6\u001b[0m)         │          \u001b[38;5;34m0\u001b[0m │ deberta_v3_class… │\n",
       "│ (\u001b[38;5;33mActivation\u001b[0m)        │                   │            │                   │\n",
       "└─────────────────────┴───────────────────┴────────────┴───────────────────┘\n"
      ]
     },
     "metadata": {},
     "output_type": "display_data"
    },
    {
     "data": {
      "text/html": [
       "<pre style=\"white-space:pre;overflow-x:auto;line-height:normal;font-family:Menlo,'DejaVu Sans Mono',consolas,'Courier New',monospace\"><span style=\"font-weight: bold\"> Total params: </span><span style=\"color: #00af00; text-decoration-color: #00af00\">184,426,758</span> (703.53 MB)\n",
       "</pre>\n"
      ],
      "text/plain": [
       "\u001b[1m Total params: \u001b[0m\u001b[38;5;34m184,426,758\u001b[0m (703.53 MB)\n"
      ]
     },
     "metadata": {},
     "output_type": "display_data"
    },
    {
     "data": {
      "text/html": [
       "<pre style=\"white-space:pre;overflow-x:auto;line-height:normal;font-family:Menlo,'DejaVu Sans Mono',consolas,'Courier New',monospace\"><span style=\"font-weight: bold\"> Trainable params: </span><span style=\"color: #00af00; text-decoration-color: #00af00\">184,426,758</span> (703.53 MB)\n",
       "</pre>\n"
      ],
      "text/plain": [
       "\u001b[1m Trainable params: \u001b[0m\u001b[38;5;34m184,426,758\u001b[0m (703.53 MB)\n"
      ]
     },
     "metadata": {},
     "output_type": "display_data"
    },
    {
     "data": {
      "text/html": [
       "<pre style=\"white-space:pre;overflow-x:auto;line-height:normal;font-family:Menlo,'DejaVu Sans Mono',consolas,'Courier New',monospace\"><span style=\"font-weight: bold\"> Non-trainable params: </span><span style=\"color: #00af00; text-decoration-color: #00af00\">0</span> (0.00 B)\n",
       "</pre>\n"
      ],
      "text/plain": [
       "\u001b[1m Non-trainable params: \u001b[0m\u001b[38;5;34m0\u001b[0m (0.00 B)\n"
      ]
     },
     "metadata": {},
     "output_type": "display_data"
    }
   ],
   "source": [
    "# Create a BertClassifier model\n",
    "classifier = keras_nlp.models.DebertaV3Classifier.from_preset(\n",
    "    CFG.preset, preprocessor=None, num_classes=6\n",
    ")\n",
    "inputs = classifier.input\n",
    "logits = classifier(inputs)\n",
    "\n",
    "print(type(logits), logits.shape)\n",
    "\n",
    "\n",
    "# Compute final output\n",
    "outputs = keras.layers.Activation(\"sigmoid\")(logits)\n",
    "\n",
    "# Build Model\n",
    "model = keras.Model(inputs, outputs)\n",
    "\n",
    "# Compile the model with optimizer, loss, and metrics\n",
    "model.compile(\n",
    "    optimizer=keras.optimizers.Adam(3e-6),\n",
    "    loss=keras.losses.BinaryCrossentropy(),\n",
    "    metrics=[\n",
    "        WeightedKappa()\n",
    "    ],\n",
    ")\n",
    "model.summary()\n",
    "\n"
   ]
  },
  {
   "cell_type": "markdown",
   "id": "acb8a402",
   "metadata": {
    "papermill": {
     "duration": 0.019135,
     "end_time": "2024-09-18T00:04:01.712324",
     "exception": false,
     "start_time": "2024-09-18T00:04:01.693189",
     "status": "completed"
    },
    "tags": []
   },
   "source": [
    "# 🚂 | Training\n",
    "\n",
    "Following code will train the model on the training dataset and evaluate on the validation dataset."
   ]
  },
  {
   "cell_type": "code",
   "execution_count": 22,
   "id": "3860f0ce",
   "metadata": {
    "_kg_hide-input": true,
    "execution": {
     "iopub.execute_input": "2024-09-18T00:04:01.752760Z",
     "iopub.status.busy": "2024-09-18T00:04:01.752369Z",
     "iopub.status.idle": "2024-09-18T02:02:31.073875Z",
     "shell.execute_reply": "2024-09-18T02:02:31.072646Z"
    },
    "papermill": {
     "duration": 7112.724319,
     "end_time": "2024-09-18T02:02:34.455808",
     "exception": false,
     "start_time": "2024-09-18T00:04:01.731489",
     "status": "completed"
    },
    "tags": []
   },
   "outputs": [
    {
     "name": "stdout",
     "output_type": "stream",
     "text": [
      "Epoch 1/10\n"
     ]
    },
    {
     "name": "stderr",
     "output_type": "stream",
     "text": [
      "WARNING: All log messages before absl::InitializeLog() is called are written to STDERR\n",
      "I0000 00:00:1734635313.509805    7247 service.cc:145] XLA service 0x7f18dc003050 initialized for platform CUDA (this does not guarantee that XLA will be used). Devices:\n",
      "I0000 00:00:1734635313.509882    7247 service.cc:153]   StreamExecutor device (0): NVIDIA GeForce RTX 3080, Compute Capability 8.6\n",
      "2024-12-20 03:08:35.278398: I tensorflow/compiler/mlir/tensorflow/utils/dump_mlir_util.cc:268] disabling MLIR crash reproducer, set env var `MLIR_CRASH_REPRODUCER_DIRECTORY` to enable.\n",
      "2024-12-20 03:08:40.047503: I external/local_xla/xla/stream_executor/cuda/cuda_dnn.cc:465] Loaded cuDNN version 8902\n",
      "WARNING: All log messages before absl::InitializeLog() is called are written to STDERR\n",
      "I0000 00:00:1734635365.564227    7524 asm_compiler.cc:369] ptxas warning : Registers are spilled to local memory in function 'triton_gemm_dot_743', 8 bytes spill stores, 8 bytes spill loads\n",
      "\n",
      "I0000 00:00:1734635367.161436    7568 asm_compiler.cc:369] ptxas warning : Registers are spilled to local memory in function 'triton_gemm_dot_562', 8 bytes spill stores, 8 bytes spill loads\n",
      "\n",
      "I0000 00:00:1734635368.546137    7525 asm_compiler.cc:369] ptxas warning : Registers are spilled to local memory in function 'triton_gemm_dot_536', 8 bytes spill stores, 8 bytes spill loads\n",
      "\n",
      "I0000 00:00:1734635375.253633    7486 asm_compiler.cc:369] ptxas warning : Registers are spilled to local memory in function 'triton_gemm_dot_26146', 32 bytes spill stores, 32 bytes spill loads\n",
      "\n",
      "I0000 00:00:1734635381.246793    7562 asm_compiler.cc:369] ptxas warning : Registers are spilled to local memory in function 'triton_gemm_dot_144', 100 bytes spill stores, 100 bytes spill loads\n",
      "\n",
      "I0000 00:00:1734635382.248816    7586 asm_compiler.cc:369] ptxas warning : Registers are spilled to local memory in function 'triton_gemm_dot_146', 100 bytes spill stores, 100 bytes spill loads\n",
      "\n",
      "I0000 00:00:1734635382.378212    7540 asm_compiler.cc:369] ptxas warning : Registers are spilled to local memory in function 'triton_gemm_dot_26146', 8 bytes spill stores, 8 bytes spill loads\n",
      "\n"
     ]
    }
   ],
   "source": [
    "# Start training the model\n",
    "history = model.fit(\n",
    "    train_ds,\n",
    "    epochs=CFG.epochs,\n",
    "    validation_data=valid_ds,\n",
    "    callbacks=[ckpt_cb]\n",
    ")"
   ]
  },
  {
   "cell_type": "markdown",
   "id": "80e75801",
   "metadata": {},
   "source": []
  },
  {
   "cell_type": "markdown",
   "id": "34de9ecb",
   "metadata": {},
   "source": []
  },
  {
   "cell_type": "markdown",
   "id": "f06f6c67",
   "metadata": {},
   "source": []
  },
  {
   "cell_type": "markdown",
   "id": "04981eb6",
   "metadata": {
    "papermill": {
     "duration": 3.530228,
     "end_time": "2024-09-18T02:02:41.551418",
     "exception": false,
     "start_time": "2024-09-18T02:02:38.021190",
     "status": "completed"
    },
    "tags": []
   },
   "source": [
    "## Result Summary"
   ]
  },
  {
   "cell_type": "code",
   "execution_count": 23,
   "id": "9512da88",
   "metadata": {
    "_kg_hide-input": true,
    "execution": {
     "iopub.execute_input": "2024-09-18T02:02:48.416957Z",
     "iopub.status.busy": "2024-09-18T02:02:48.416553Z",
     "iopub.status.idle": "2024-09-18T02:02:48.424069Z",
     "shell.execute_reply": "2024-09-18T02:02:48.423062Z"
    },
    "papermill": {
     "duration": 3.401477,
     "end_time": "2024-09-18T02:02:48.426388",
     "exception": false,
     "start_time": "2024-09-18T02:02:45.024911",
     "status": "completed"
    },
    "tags": []
   },
   "outputs": [
    {
     "name": "stdout",
     "output_type": "stream",
     "text": [
      "\n",
      "================= ALL RESULTS =================\n",
      "Epoch 1: Loss = 0.185, val Weighted Kappa = 0.582\n",
      "Epoch 2: Loss = 0.171, val Weighted Kappa = 0.612\n",
      "Epoch 3: Loss = 0.163, val Weighted Kappa = 0.620\n",
      "Epoch 4: Loss = 0.158, val Weighted Kappa = 0.638\n",
      "Epoch 5: Loss = 0.160, val Weighted Kappa = 0.640\n",
      "Epoch 6: Loss = 0.165, val Weighted Kappa = 0.651\n",
      "Epoch 7: Loss = 0.188, val Weighted Kappa = 0.609\n",
      "Epoch 8: Loss = 0.188, val Weighted Kappa = 0.628\n",
      "Epoch 9: Loss = 0.201, val Weighted Kappa = 0.620\n",
      "Epoch 10: Loss = 0.222, val Weighted Kappa = 0.613\n",
      "==================================================\n"
     ]
    },
    {
     "data": {
      "image/png": "[encoded data removed]",
      "text/plain": [
       "<Figure size 1200x600 with 2 Axes>"
      ]
     },
     "metadata": {},
     "output_type": "display_data"
    }
   ],
   "source": [
    "import numpy as np\n",
    "import csv\n",
    "\n",
    "# 获取所有 epoch 的分数和损失\n",
    "epochs = range(1, len(history.history['val_weighted_kappa']) + 1)\n",
    "val_kappas = history.history['val_weighted_kappa']\n",
    "val_losses = history.history['val_loss']\n",
    "\n",
    "# 打开 CSV 文件以便写入\n",
    "with open('DebertaV3_base_en_val.csv', mode='w', newline='') as file:\n",
    "    writer = csv.writer(file)\n",
    "    writer.writerow(['Epoch', 'Validation Loss', 'Validation Weighted Kappa'])\n",
    "\n",
    "    # 写入每个 epoch 的结果\n",
    "    for epoch, val_loss, val_kappa in zip(epochs, val_losses, val_kappas):\n",
    "        writer.writerow([epoch, val_loss, val_kappa])\n",
    "\n",
    "# 打印所有结果\n",
    "print(f'\\n{\"=\" * 17} ALL RESULTS {\"=\" * 17}')\n",
    "for epoch, val_loss, val_kappa in zip(epochs, val_losses, val_kappas):\n",
    "    print(f'Epoch {epoch}: Loss = {val_loss:.3f}, val Weighted Kappa = {val_kappa:.3f}')\n",
    "print('=' * 50)\n",
    "\n",
    "# 可视化结果\n",
    "plt.figure(figsize=(12, 6))\n",
    "\n",
    "# 绘制验证损失\n",
    "plt.subplot(1, 2, 1)\n",
    "plt.plot(epochs, val_losses, marker='o', color='blue', label='Validation Loss')\n",
    "plt.title('Validation Loss per Epoch')\n",
    "plt.xlabel('Epoch')\n",
    "plt.ylabel('Validation Loss')\n",
    "plt.xticks(epochs)\n",
    "plt.grid()\n",
    "plt.legend()\n",
    "\n",
    "# 绘制验证加权Kappa\n",
    "plt.subplot(1, 2, 2)\n",
    "plt.plot(epochs, val_kappas, marker='o', color='orange', label='Validation Weighted Kappa')\n",
    "plt.title('Validation Weighted Kappa per Epoch')\n",
    "plt.xlabel('Epoch')\n",
    "plt.ylabel('Validation Weighted Kappa')\n",
    "plt.xticks(epochs)\n",
    "plt.grid()\n",
    "plt.legend()\n",
    "\n",
    "# 显示图表\n",
    "plt.tight_layout()\n",
    "plt.show()\n"
   ]
  },
  {
   "cell_type": "markdown",
   "id": "cf6db566",
   "metadata": {
    "papermill": {
     "duration": 3.355265,
     "end_time": "2024-09-18T02:02:55.355408",
     "exception": false,
     "start_time": "2024-09-18T02:02:52.000143",
     "status": "completed"
    },
    "tags": []
   },
   "source": [
    "# 🧪 | Testing\n",
    "\n",
    "In this section, we will visually test how our model performs on some samples from the validation data.\n",
    "\n",
    "> Note that we are converting the ordinal regression model outputs with `sum`, unlike a typical classification problem where we would use `argmax`."
   ]
  },
  {
   "cell_type": "code",
   "execution_count": null,
   "id": "3d937044",
   "metadata": {
    "_kg_hide-input": true,
    "execution": {
     "iopub.execute_input": "2024-09-18T02:03:02.445898Z",
     "iopub.status.busy": "2024-09-18T02:03:02.444749Z",
     "iopub.status.idle": "2024-09-18T02:05:00.719031Z",
     "shell.execute_reply": "2024-09-18T02:05:00.717692Z"
    },
    "papermill": {
     "duration": 125.326233,
     "end_time": "2024-09-18T02:05:04.263130",
     "exception": false,
     "start_time": "2024-09-18T02:02:58.936897",
     "status": "completed"
    },
    "tags": []
   },
   "outputs": [],
   "source": [
    "# Load best checkpoint\n",
    "model.load_weights(\"best_model.weights.h5\")\n",
    "\n",
    "# Make predictions using the trained model on last validation data\n",
    "valid_preds = model.predict(valid_ds, verbose=0)\n",
    "\n",
    "# Format predictions and true answers\n",
    "pred_scores = np.sum((valid_preds > 0.5).astype(int), axis=-1)\n",
    "true_scores = valid_df.score.values\n",
    "\n",
    "# Check 5 Predictions\n",
    "print(\"# Predictions\\n\")\n",
    "for i in range(5):\n",
    "    row = valid_df.iloc[i]\n",
    "    text = row.full_text\n",
    "    pred_answer = pred_scores[i]\n",
    "    true_answer = true_scores[i]\n",
    "    print(f\"❓ Text {i+1}:\\n{text[:150]} .... {text[-150:]}\\n\")\n",
    "    print(f\"✅ True: {true_answer}\\n\")\n",
    "    print(f\"🤖 Predicted: {pred_answer}\\n\")\n",
    "    print(\"-\" * 90, \"\\n\")\n"
   ]
  },
  {
   "cell_type": "markdown",
   "id": "bd1468e3",
   "metadata": {
    "papermill": {
     "duration": 3.483467,
     "end_time": "2024-09-18T02:05:11.244430",
     "exception": false,
     "start_time": "2024-09-18T02:05:07.760963",
     "status": "completed"
    },
    "tags": []
   },
   "source": [
    "# 📬 | Submission\n",
    "\n",
    "In this section, we will infer our model on the test data and then finally prepare the submission file."
   ]
  },
  {
   "cell_type": "markdown",
   "id": "3a70bbae",
   "metadata": {
    "papermill": {
     "duration": 3.4003,
     "end_time": "2024-09-18T02:05:18.204673",
     "exception": false,
     "start_time": "2024-09-18T02:05:14.804373",
     "status": "completed"
    },
    "tags": []
   },
   "source": [
    "## Build Test Dataset"
   ]
  },
  {
   "cell_type": "code",
   "execution_count": 100,
   "id": "97b8cc8f",
   "metadata": {
    "execution": {
     "iopub.execute_input": "2024-09-18T02:05:25.236859Z",
     "iopub.status.busy": "2024-09-18T02:05:25.236466Z",
     "iopub.status.idle": "2024-09-18T02:05:25.779813Z",
     "shell.execute_reply": "2024-09-18T02:05:25.778744Z"
    },
    "papermill": {
     "duration": 4.023796,
     "end_time": "2024-09-18T02:05:25.782528",
     "exception": false,
     "start_time": "2024-09-18T02:05:21.758732",
     "status": "completed"
    },
    "tags": []
   },
   "outputs": [],
   "source": [
    "# # Train Data\n",
    "test_df = pd.read_csv(f\"{BASE_PATH}/test.csv\")\n",
    "test_texts = test_df.full_text.fillna(\"\").tolist()  # Extract training texts\n",
    "\n",
    "# Build training dataset\n",
    "test_ds = build_dataset(\n",
    "    test_texts,\n",
    "    labels=None,\n",
    "    batch_size=min(CFG.batch_size, len(test_df)),\n",
    "    shuffle=False,\n",
    "    drop_remainder=False,  # include all samples\n",
    ")\n"
   ]
  },
  {
   "cell_type": "markdown",
   "id": "5e133518",
   "metadata": {
    "papermill": {
     "duration": 3.311625,
     "end_time": "2024-09-18T02:05:32.606310",
     "exception": false,
     "start_time": "2024-09-18T02:05:29.294685",
     "status": "completed"
    },
    "tags": []
   },
   "source": [
    "## Inference on Test Data"
   ]
  },
  {
   "cell_type": "code",
   "execution_count": 101,
   "id": "ede50599",
   "metadata": {
    "execution": {
     "iopub.execute_input": "2024-09-18T02:05:39.494705Z",
     "iopub.status.busy": "2024-09-18T02:05:39.494280Z",
     "iopub.status.idle": "2024-09-18T02:05:52.094606Z",
     "shell.execute_reply": "2024-09-18T02:05:52.093389Z"
    },
    "papermill": {
     "duration": 15.946184,
     "end_time": "2024-09-18T02:05:52.097142",
     "exception": false,
     "start_time": "2024-09-18T02:05:36.150958",
     "status": "completed"
    },
    "tags": []
   },
   "outputs": [
    {
     "name": "stdout",
     "output_type": "stream",
     "text": [
      "\u001b[1m1/2\u001b[0m \u001b[32m━━━━━━━━━━\u001b[0m\u001b[37m━━━━━━━━━━\u001b[0m \u001b[1m4s\u001b[0m 4s/step"
     ]
    },
    {
     "name": "stderr",
     "output_type": "stream",
     "text": [
      "I0000 00:00:1734602970.256199   17739 asm_compiler.cc:369] ptxas warning : Registers are spilled to local memory in function 'triton_gemm_dot_33', 4 bytes spill stores, 4 bytes spill loads\n",
      "\n",
      "I0000 00:00:1734602973.823965   17641 asm_compiler.cc:369] ptxas warning : Registers are spilled to local memory in function 'triton_gemm_dot_7', 16 bytes spill stores, 16 bytes spill loads\n",
      "\n"
     ]
    },
    {
     "name": "stdout",
     "output_type": "stream",
     "text": [
      "\u001b[1m2/2\u001b[0m \u001b[32m━━━━━━━━━━━━━━━━━━━━\u001b[0m\u001b[37m\u001b[0m \u001b[1m15s\u001b[0m 11s/step\n"
     ]
    }
   ],
   "source": [
    "# Do inference\n",
    "test_preds = model.predict(test_ds, verbose=1)\n",
    "\n",
    "# Convert probabilities to class labels\n",
    "test_preds = np.sum((test_preds>0.5).astype(int), axis=-1).clip(1, 6)"
   ]
  },
  {
   "cell_type": "markdown",
   "id": "4eb7956d",
   "metadata": {
    "papermill": {
     "duration": 3.475391,
     "end_time": "2024-09-18T02:05:59.130874",
     "exception": false,
     "start_time": "2024-09-18T02:05:55.655483",
     "status": "completed"
    },
    "tags": []
   },
   "source": [
    "## Create Submission File"
   ]
  },
  {
   "cell_type": "code",
   "execution_count": 102,
   "id": "5498adbd",
   "metadata": {
    "execution": {
     "iopub.execute_input": "2024-09-18T02:06:06.008408Z",
     "iopub.status.busy": "2024-09-18T02:06:06.007946Z",
     "iopub.status.idle": "2024-09-18T02:06:06.027085Z",
     "shell.execute_reply": "2024-09-18T02:06:06.026076Z"
    },
    "papermill": {
     "duration": 3.403555,
     "end_time": "2024-09-18T02:06:06.029360",
     "exception": false,
     "start_time": "2024-09-18T02:06:02.625805",
     "status": "completed"
    },
    "tags": []
   },
   "outputs": [
    {
     "data": {
      "text/html": [
       "<div>\n",
       "<style scoped>\n",
       "    .dataframe tbody tr th:only-of-type {\n",
       "        vertical-align: middle;\n",
       "    }\n",
       "\n",
       "    .dataframe tbody tr th {\n",
       "        vertical-align: top;\n",
       "    }\n",
       "\n",
       "    .dataframe thead th {\n",
       "        text-align: right;\n",
       "    }\n",
       "</style>\n",
       "<table border=\"1\" class=\"dataframe\">\n",
       "  <thead>\n",
       "    <tr style=\"text-align: right;\">\n",
       "      <th></th>\n",
       "      <th>essay_id</th>\n",
       "      <th>score</th>\n",
       "    </tr>\n",
       "  </thead>\n",
       "  <tbody>\n",
       "    <tr>\n",
       "      <th>0</th>\n",
       "      <td>000d118</td>\n",
       "      <td>3</td>\n",
       "    </tr>\n",
       "    <tr>\n",
       "      <th>1</th>\n",
       "      <td>000fe60</td>\n",
       "      <td>3</td>\n",
       "    </tr>\n",
       "    <tr>\n",
       "      <th>2</th>\n",
       "      <td>001ab80</td>\n",
       "      <td>5</td>\n",
       "    </tr>\n",
       "  </tbody>\n",
       "</table>\n",
       "</div>"
      ],
      "text/plain": [
       "  essay_id  score\n",
       "0  000d118      3\n",
       "1  000fe60      3\n",
       "2  001ab80      5"
      ]
     },
     "execution_count": 102,
     "metadata": {},
     "output_type": "execute_result"
    }
   ],
   "source": [
    "# Create a DataFrame to store the submission\n",
    "sub_df = test_df[[\"essay_id\"]].copy()\n",
    "\n",
    "# Add the formatted predictions to the submission DataFrame\n",
    "sub_df[\"score\"] = test_preds\n",
    "\n",
    "# Save Submission\n",
    "sub_df.to_csv('submission.csv',index=False)\n",
    "\n",
    "# Display the first 2 rows of the submission DataFrame\n",
    "sub_df.head()"
   ]
  },
  {
   "cell_type": "markdown",
   "id": "783f8337",
   "metadata": {
    "papermill": {
     "duration": 3.423119,
     "end_time": "2024-09-18T02:06:13.036196",
     "exception": false,
     "start_time": "2024-09-18T02:06:09.613077",
     "status": "completed"
    },
    "tags": []
   },
   "source": [
    "# ✍️ | Reference\n",
    "* [LLM Science Exam: KerasCore + KerasNLP [TPU]](https://www.kaggle.com/code/awsaf49/llm-science-exam-kerascore-kerasnlp-tpu)\n",
    "* [Keras NLP](https://keras.io/api/keras_nlp/)\n",
    "* [Triple Stratified KFold with TFRecords](https://www.kaggle.com/code/cdeotte/triple-stratified-kfold-with-tfrecords) by @cdeotte"
   ]
  }
 ],
 "metadata": {
  "kaggle": {
   "accelerator": "gpu",
   "dataSources": [
    {
     "databundleVersionId": 8059942,
     "sourceId": 71485,
     "sourceType": "competition"
    },
    {
     "modelId": 2820,
     "modelInstanceId": 4684,
     "sourceId": 6063,
     "sourceType": "modelInstanceVersion"
    },
    {
     "modelId": 2820,
     "modelInstanceId": 4686,
     "sourceId": 6065,
     "sourceType": "modelInstanceVersion"
    }
   ],
   "dockerImageVersionId": 30674,
   "isGpuEnabled": true,
   "isInternetEnabled": false,
   "language": "python",
   "sourceType": "notebook"
  },
  "kernelspec": {
   "display_name": "base",
   "language": "python",
   "name": "python3"
  },
  "language_info": {
   "codemirror_mode": {
    "name": "ipython",
    "version": 3
   },
   "file_extension": ".py",
   "mimetype": "text/x-python",
   "name": "python",
   "nbconvert_exporter": "python",
   "pygments_lexer": "ipython3",
   "version": "3.10.8"
  },
  "papermill": {
   "default_parameters": {},
   "duration": 7378.392677,
   "end_time": "2024-09-18T02:06:20.074994",
   "environment_variables": {},
   "exception": null,
   "input_path": "__notebook__.ipynb",
   "output_path": "__notebook__.ipynb",
   "parameters": {},
   "start_time": "2024-09-18T00:03:21.682317",
   "version": "2.5.0"
  }
 },
 "nbformat": 4,
 "nbformat_minor": 5
}
